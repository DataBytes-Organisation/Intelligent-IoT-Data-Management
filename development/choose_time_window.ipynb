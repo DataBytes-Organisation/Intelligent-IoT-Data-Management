{
 "cells": [
  {
   "cell_type": "code",
   "execution_count": 10,
   "id": "da699692-a049-4525-b7ee-2380e3664008",
   "metadata": {},
   "outputs": [],
   "source": [
    "import pandas as pd\n",
    "import ipywidgets as widgets\n",
    "from IPython.display import display, Markdown\n",
    "import datetime\n",
    "\n",
    "def choose_time_window(csv_file, date_col='created_at'):\n",
    "    \n",
    "    df = pd.read_csv(csv_file)\n",
    "    df['__date_filter__'] = pd.to_datetime(df[date_col], utc=True, errors='coerce')\n",
    "    df = df.dropna(subset=['__date_filter__'])  # Drop invalid date rows\n",
    "\n",
    "    # Get the full range of data recording\n",
    "    min_time = df['__date_filter__'].min()\n",
    "    max_time = df['__date_filter__'].max()\n",
    "\n",
    "    display(Markdown(f\"**Data range:** {min_time.strftime('%Y-%m-%d %H:%M:%S %Z')} to {max_time.strftime('%Y-%m-%d %H:%M:%S %Z')}\"))\n",
    "\n",
    "    # Time dropdown options\n",
    "    hour_options = [f\"{h:02d}\" for h in range(24)]\n",
    "    minute_options = [f\"{m:02d}\" for m in range(60)]\n",
    "    second_options = [f\"{s:02d}\" for s in range(60)]\n",
    "\n",
    "    start_date = widgets.DatePicker(description='Start Date', value=min_time.date())\n",
    "    end_date = widgets.DatePicker(description='End Date', value=max_time.date())\n",
    "    \n",
    "    start_hour = widgets.Dropdown(description='Hour', options=hour_options, value='00')\n",
    "    start_minute = widgets.Dropdown(description='Minute', options=minute_options, value='00')\n",
    "    start_second = widgets.Dropdown(description='Second', options=second_options, value='00')\n",
    "\n",
    "    end_hour = widgets.Dropdown(description='Hour', options=hour_options, value='23')\n",
    "    end_minute = widgets.Dropdown(description='Minute', options=minute_options, value='59')\n",
    "    end_second = widgets.Dropdown(description='Second', options=second_options, value='59')\n",
    "\n",
    "    filter_button = widgets.Button(description='Filter', button_style='primary')\n",
    "    save_button = widgets.Button(description='Save to CSV', button_style='success')\n",
    "    filename_input = widgets.Text(description='Filename:', value='filtered_data.csv')\n",
    "    \n",
    "    output = widgets.Output()\n",
    "    confirmation = widgets.Output()\n",
    "\n",
    "    # Store filtered data between callbacks\n",
    "    filtered_df = None\n",
    "\n",
    "    def on_filter(b):\n",
    "        nonlocal filtered_df\n",
    "        with output:\n",
    "            output.clear_output()\n",
    "            confirmation.clear_output()\n",
    "            \n",
    "            # Combine selected date and time\n",
    "            start_dt_str = f\"{start_date.value} {start_hour.value}:{start_minute.value}:{start_second.value}\"\n",
    "            end_dt_str = f\"{end_date.value} {end_hour.value}:{end_minute.value}:{end_second.value}\"\n",
    "\n",
    "            # Convert to timezone-aware datetime objects\n",
    "            start_ts = pd.to_datetime(start_dt_str).tz_localize('UTC')\n",
    "            end_ts = pd.to_datetime(end_dt_str).tz_localize('UTC')\n",
    "\n",
    "            # Filter the dataframe\n",
    "            mask = (df['__date_filter__'] >= start_ts) & (df['__date_filter__'] <= end_ts)\n",
    "            filtered_df = df.loc[mask].copy()\n",
    "\n",
    "            # Format date column\n",
    "            filtered_df[date_col] = filtered_df['__date_filter__'].dt.strftime('%d/%m/%y')\n",
    "            filtered_df.drop(columns=['__date_filter__'], inplace=True)\n",
    "\n",
    "            display(Markdown(f\"**Filtered {len(filtered_df)} records:**\"))\n",
    "            display(filtered_df)\n",
    "\n",
    "    def on_save(b):\n",
    "        nonlocal filtered_df\n",
    "        with confirmation:\n",
    "            confirmation.clear_output()\n",
    "            if filtered_df is None or len(filtered_df) == 0:\n",
    "                display(Markdown(\" **No data to save! Please filter first.**\"))\n",
    "                return\n",
    "                \n",
    "            filename = filename_input.value\n",
    "            if not filename.lower().endswith('.csv'):\n",
    "                filename += '.csv'\n",
    "                \n",
    "            try:\n",
    "                filtered_df.to_csv(filename, index=False)\n",
    "                display(Markdown(f\" **Successfully saved {len(filtered_df)} records to {filename}**\"))\n",
    "            except Exception as e:\n",
    "                display(Markdown(f\" **Error saving file:** {str(e)}\"))\n",
    "\n",
    "    filter_button.on_click(on_filter)\n",
    "    save_button.on_click(on_save)\n",
    "\n",
    "    \n",
    "    ui = widgets.VBox([\n",
    "        widgets.HTML(\"<h3>Time Range Selection</h3>\"),\n",
    "        widgets.HBox([start_date, start_hour, start_minute, start_second]),\n",
    "        widgets.HBox([end_date, end_hour, end_minute, end_second]),\n",
    "        widgets.HBox([filter_button, save_button, filename_input]),\n",
    "        output,\n",
    "        confirmation\n",
    "    ])\n",
    "    \n",
    "    display(ui)"
   ]
  },
  {
   "cell_type": "code",
   "execution_count": 9,
   "id": "dd35fd0b-ad84-449d-8b34-d6a11bc7cc49",
   "metadata": {},
   "outputs": [
    {
     "data": {
      "text/markdown": [
       "**Data range:** 2025-03-18 06:54:26 UTC to 2025-03-19 07:02:42 UTC"
      ],
      "text/plain": [
       "<IPython.core.display.Markdown object>"
      ]
     },
     "metadata": {},
     "output_type": "display_data"
    },
    {
     "data": {
      "application/vnd.jupyter.widget-view+json": {
       "model_id": "f38efb2f73aa4e778a9cfafc26b8266a",
       "version_major": 2,
       "version_minor": 0
      },
      "text/plain": [
       "VBox(children=(HTML(value='<h3>Time Range Selection</h3>'), HBox(children=(DatePicker(value=datetime.date(2025…"
      ]
     },
     "metadata": {},
     "output_type": "display_data"
    }
   ],
   "source": [
    "choose_time_window('2881821.csv', date_col='created_at')\n"
   ]
  },
  {
   "cell_type": "code",
   "execution_count": null,
   "id": "1beed41d-7fd2-4535-a703-ce1bdd3f4087",
   "metadata": {},
   "outputs": [],
   "source": []
  }
 ],
 "metadata": {
  "kernelspec": {
   "display_name": "Python 3 (ipykernel)",
   "language": "python",
   "name": "python3"
  },
  "language_info": {
   "codemirror_mode": {
    "name": "ipython",
    "version": 3
   },
   "file_extension": ".py",
   "mimetype": "text/x-python",
   "name": "python",
   "nbconvert_exporter": "python",
   "pygments_lexer": "ipython3",
   "version": "3.9.7"
  }
 },
 "nbformat": 4,
 "nbformat_minor": 5
}
