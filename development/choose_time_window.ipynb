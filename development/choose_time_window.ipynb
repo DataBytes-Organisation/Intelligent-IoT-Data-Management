{
 "cells": [
  {
   "cell_type": "code",
   "execution_count": 41,
   "id": "da699692-a049-4525-b7ee-2380e3664008",
   "metadata": {},
   "outputs": [],
   "source": [
    "import pandas as pd\n",
    "import ipywidgets as widgets\n",
    "from IPython.display import display, Markdown\n",
    "import datetime\n",
    "\n",
    "def choose_time_window(csv_file, date_col='created_at'):\n",
    "    # Load CSV and convert the selected date column to datetime with UTC\n",
    "    df = pd.read_csv(csv_file)\n",
    "    df['__date_filter__'] = pd.to_datetime(df[date_col], utc=True, errors='coerce')\n",
    "    df = df.dropna(subset=['__date_filter__'])  # Drop invalid date rows\n",
    "\n",
    "    # Get the full range of data recording\n",
    "    min_time = df['__date_filter__'].min()\n",
    "    max_time = df['__date_filter__'].max()\n",
    "\n",
    "    # Start and end times\n",
    "    print(f\"The dataset starts recording at {min_time.strftime('%Y-%m-%d %H:%M:%S %Z')}\")\n",
    "    print(f\"The dataset ends recording at {max_time.strftime('%Y-%m-%d %H:%M:%S %Z')}\")\n",
    "\n",
    "    # Time dropdown options\n",
    "    hour_options = [f\"{h:02d}\" for h in range(24)]\n",
    "    minute_options = [f\"{m:02d}\" for m in range(60)]\n",
    "    second_options = [f\"{s:02d}\" for s in range(60)]\n",
    "\n",
    "    # Date pickers\n",
    "    start_date = widgets.DatePicker(description='Start Date', value=min_time.date())\n",
    "    end_date = widgets.DatePicker(description='End Date', value=max_time.date())\n",
    "\n",
    "    # Time pickers for start\n",
    "    start_hour = widgets.Dropdown(description='Hour', options=hour_options, value='00')\n",
    "    start_minute = widgets.Dropdown(description='Minute', options=minute_options, value='00')\n",
    "    start_second = widgets.Dropdown(description='Second', options=second_options, value='00')\n",
    "\n",
    "    # Time pickers for end\n",
    "    end_hour = widgets.Dropdown(description='Hour', options=hour_options, value='23')\n",
    "    end_minute = widgets.Dropdown(description='Minute', options=minute_options, value='59')\n",
    "    end_second = widgets.Dropdown(description='Second', options=second_options, value='59')\n",
    "\n",
    "    button = widgets.Button(description='Filter')\n",
    "    output = widgets.Output()\n",
    "\n",
    "    # Filtering logic on button click\n",
    "    def on_click(b):\n",
    "        with output:\n",
    "            output.clear_output()\n",
    "\n",
    "            # Combine selected date and time into strings\n",
    "            start_dt_str = f\"{start_date.value} {start_hour.value}:{start_minute.value}:{start_second.value}\"\n",
    "            end_dt_str = f\"{end_date.value} {end_hour.value}:{end_minute.value}:{end_second.value}\"\n",
    "\n",
    "            # Convert to timezone-aware datetime objects\n",
    "            start_ts = pd.to_datetime(start_dt_str).tz_localize('UTC')\n",
    "            end_ts = pd.to_datetime(end_dt_str).tz_localize('UTC')\n",
    "\n",
    "            # Filter the dataframe\n",
    "            data1 = (df['__date_filter__'] >= start_ts) & (df['__date_filter__'] <= end_ts)\n",
    "            filtered_df = df.loc[data1].copy()\n",
    "\n",
    "            # Format date column as dd/mm/yy \n",
    "            filtered_df[date_col] = filtered_df['__date_filter__'].dt.strftime('%d/%m/%y')\n",
    "            filtered_df.drop(columns=['__date_filter__'], inplace=True)\n",
    "\n",
    "            display(filtered_df)\n",
    "\n",
    "    button.on_click(on_click)\n",
    "\n",
    "    # Display UI\n",
    "    ui = widgets.VBox([\n",
    "        widgets.HBox([start_date, start_hour, start_minute, start_second]),\n",
    "        widgets.HBox([end_date, end_hour, end_minute, end_second]),\n",
    "        button,\n",
    "        output\n",
    "    ])\n",
    "    display(ui)\n"
   ]
  },
  {
   "cell_type": "code",
   "execution_count": 42,
   "id": "dd35fd0b-ad84-449d-8b34-d6a11bc7cc49",
   "metadata": {},
   "outputs": [
    {
     "name": "stdout",
     "output_type": "stream",
     "text": [
      "The dataset starts recording at 2025-03-18 06:54:26 UTC\n",
      "The dataset ends recording at 2025-03-19 07:02:42 UTC\n"
     ]
    },
    {
     "data": {
      "application/vnd.jupyter.widget-view+json": {
       "model_id": "0ae558b0c38f49bc8b36a971c90055e8",
       "version_major": 2,
       "version_minor": 0
      },
      "text/plain": [
       "VBox(children=(HBox(children=(DatePicker(value=datetime.date(2025, 3, 18), description='Start Date'), Dropdown…"
      ]
     },
     "metadata": {},
     "output_type": "display_data"
    }
   ],
   "source": [
    "choose_time_window('2881821.csv', date_col='created_at')\n"
   ]
  },
  {
   "cell_type": "code",
   "execution_count": null,
   "id": "b0c9a3cb-ddfc-4c07-a11b-4d5a657187e5",
   "metadata": {},
   "outputs": [],
   "source": []
  }
 ],
 "metadata": {
  "kernelspec": {
   "display_name": "Python 3 (ipykernel)",
   "language": "python",
   "name": "python3"
  },
  "language_info": {
   "codemirror_mode": {
    "name": "ipython",
    "version": 3
   },
   "file_extension": ".py",
   "mimetype": "text/x-python",
   "name": "python",
   "nbconvert_exporter": "python",
   "pygments_lexer": "ipython3",
   "version": "3.9.7"
  }
 },
 "nbformat": 4,
 "nbformat_minor": 5
}
