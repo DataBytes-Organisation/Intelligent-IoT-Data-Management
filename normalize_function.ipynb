{
 "cells": [
  {
   "cell_type": "code",
   "execution_count": 34,
   "id": "40686ce9-00ee-499f-afed-0a94ba8219cc",
   "metadata": {},
   "outputs": [],
   "source": [
    "import pandas as pd\n",
    "import seaborn as sns\n",
    "import matplotlib.pyplot as plt"
   ]
  },
  {
   "cell_type": "code",
   "execution_count": 2,
   "id": "8a145683-ce56-453d-8fae-5a3244eef221",
   "metadata": {},
   "outputs": [],
   "source": [
    "from sklearn.preprocessing import MinMaxScaler, StandardScaler"
   ]
  },
  {
   "cell_type": "markdown",
   "id": "74c16f46-8882-4cb8-93b1-78699723a49b",
   "metadata": {},
   "source": [
    "### Clean SwanHill weather data"
   ]
  },
  {
   "cell_type": "code",
   "execution_count": 3,
   "id": "add7149f-f20f-4636-9eac-9948a7a9aede",
   "metadata": {},
   "outputs": [],
   "source": [
    "def data_wrangling_weather(df, fill_missing='mean', drop_duplicates=True):\n",
    "    # change data types\n",
    "    df.iloc[:, 0] = pd.to_datetime(df.iloc[:, 0], errors='coerce')\n",
    "    for col in df.columns[2:]:\n",
    "        df[col] = pd.to_numeric(df[col], errors='coerce')\n",
    "\n",
    "    # fill in missing values\n",
    "    if fill_missing == 'mean':\n",
    "        df.fillna(df.mean(numeric_only=True), inplace=True)\n",
    "    elif fill_missing == 'median':\n",
    "        df.fillna(df.median(numeric_only=True), inplace=True)\n",
    "        \n",
    "    # remove duplicates\n",
    "    if drop_duplicates:\n",
    "        df.drop_duplicates(inplace=True)\n",
    "\n",
    "    return df"
   ]
  },
  {
   "cell_type": "markdown",
   "id": "34e17462-ea34-43fc-8ca4-49a18e0d9425",
   "metadata": {},
   "source": [
    "### Clean sensor data (3 datasets: simple, complex, time series)"
   ]
  },
  {
   "cell_type": "code",
   "execution_count": 4,
   "id": "a73284a8-726f-49af-9ff7-75e9ba68bdb5",
   "metadata": {},
   "outputs": [],
   "source": [
    "def data_wrangling_sensor(df):\n",
    "    df.dropna(how='all', inplace=True)\n",
    "    df.reset_index(drop=True, inplace=True)\n",
    "    return df"
   ]
  },
  {
   "cell_type": "markdown",
   "id": "a9f8a02b-1593-44f7-ba1c-5a5713560a8e",
   "metadata": {},
   "source": [
    "### Normalize data by MinMax technique"
   ]
  },
  {
   "cell_type": "code",
   "execution_count": 5,
   "id": "c9aa3833-c7e6-4686-98a4-6fd88fc7ef92",
   "metadata": {},
   "outputs": [],
   "source": [
    "def min_max_normalize(df, exclude_cols=None):\n",
    "    if exclude_cols is None:\n",
    "        exclude_cols = []\n",
    "\n",
    "    numeric_cols = df.select_dtypes(include='number').columns.difference(exclude_cols)\n",
    "    scaler = MinMaxScaler()\n",
    "    df[numeric_cols] = scaler.fit_transform(df[numeric_cols])\n",
    "    \n",
    "    return df"
   ]
  },
  {
   "cell_type": "markdown",
   "id": "a98345f2-9eb7-417b-8db9-30d40482325c",
   "metadata": {},
   "source": [
    "### Normalize data by zScore technique"
   ]
  },
  {
   "cell_type": "code",
   "execution_count": 6,
   "id": "45b3a0f3-b6fd-4a30-bb7e-45ef62888322",
   "metadata": {},
   "outputs": [],
   "source": [
    "def z_score_standardize(df, exclude_cols=None):\n",
    "    if exclude_cols is None:\n",
    "        exclude_cols = []\n",
    "\n",
    "    numeric_cols = df.select_dtypes(include='number').columns.difference(exclude_cols)\n",
    "    scaler = StandardScaler()\n",
    "    df[numeric_cols] = scaler.fit_transform(df[numeric_cols])\n",
    "    return df"
   ]
  },
  {
   "cell_type": "markdown",
   "id": "c1509f27-2ef5-4c27-b183-03736304ac27",
   "metadata": {},
   "source": [
    "### Call this function in the main program"
   ]
  },
  {
   "cell_type": "code",
   "execution_count": 7,
   "id": "a65329ff-b63f-4311-981b-170af895faec",
   "metadata": {},
   "outputs": [],
   "source": [
    "def normalize(df_cleaned, start_numeric_index, method='minmax'): # or 'zscore'\n",
    "\n",
    "    # find data range for normalization\n",
    "    datetime_col = df_cleaned.columns[0]\n",
    "    numeric_cols = df_cleaned.columns[start_numeric_index:]  # everything after datetime is assumed numeric\n",
    "\n",
    "    variable_cols = [col for col in numeric_cols if df_cleaned[col].nunique() > 1]\n",
    "    \n",
    "    # normalize\n",
    "    if method == 'minmax':\n",
    "        normalized_data = min_max_normalize(df_cleaned[variable_cols].copy())\n",
    "    elif method == 'zscore':\n",
    "        normalized_data = z_score_standardize(df_cleaned[variable_cols].copy())\n",
    "    else:\n",
    "        raise ValueError(\"method must be 'minmax' or 'zscore'\")\n",
    "    \n",
    "    # recombine with other columns (not normalized data)\n",
    "    df_result = pd.concat([df_cleaned.iloc[:, :start_numeric_index].reset_index(drop=True), \n",
    "                           normalized_data.reset_index(drop=True)], axis=1)\n",
    "    \n",
    "    return df_result\n"
   ]
  },
  {
   "cell_type": "code",
   "execution_count": null,
   "id": "cade6244-03e6-4f77-af69-2545f2163e7e",
   "metadata": {},
   "outputs": [],
   "source": []
  },
  {
   "cell_type": "markdown",
   "id": "a216c459-6e48-4c96-93e2-155300d794e8",
   "metadata": {},
   "source": [
    "### Test with datasets"
   ]
  },
  {
   "cell_type": "markdown",
   "id": "837565f5-751c-4fa9-9d34-917e2fa78f23",
   "metadata": {},
   "source": [
    "### SwanHill weather dataset"
   ]
  },
  {
   "cell_type": "code",
   "execution_count": 8,
   "id": "63f05478-9217-4de6-9d0f-67764a91ea0c",
   "metadata": {},
   "outputs": [],
   "source": [
    "weather_df = pd.read_csv('swanHill_weather data.csv')"
   ]
  },
  {
   "cell_type": "code",
   "execution_count": 9,
   "id": "8d304066-d812-4837-8298-3131e573eb5b",
   "metadata": {},
   "outputs": [
    {
     "name": "stdout",
     "output_type": "stream",
     "text": [
      "                created_at  entry_id  field1  field2  field3  field4  field5\n",
      "0  2025-03-22 05:28:04 UTC   3249424      29      33     136    1009   12.85\n",
      "1  2025-03-22 05:28:34 UTC   3249425      29      33     136    1009   12.92\n",
      "2  2025-03-22 05:29:05 UTC   3249426      29      33     136    1009   12.81\n",
      "3  2025-03-22 05:29:35 UTC   3249427      29      33     136    1009   12.85\n",
      "4  2025-03-22 05:30:06 UTC   3249428      29      33     136    1009   12.85\n"
     ]
    }
   ],
   "source": [
    "print(weather_df.head())"
   ]
  },
  {
   "cell_type": "code",
   "execution_count": 10,
   "id": "a2ba60f5-5170-40b5-821a-33d24eef4046",
   "metadata": {},
   "outputs": [
    {
     "name": "stdout",
     "output_type": "stream",
     "text": [
      "created_at     object\n",
      "entry_id        int64\n",
      "field1          int64\n",
      "field2          int64\n",
      "field3          int64\n",
      "field4          int64\n",
      "field5        float64\n",
      "dtype: object\n"
     ]
    }
   ],
   "source": [
    "print(weather_df.dtypes)"
   ]
  },
  {
   "cell_type": "code",
   "execution_count": 12,
   "id": "9b2fdb2c-5a49-4734-b9b3-4a3ce424bb25",
   "metadata": {},
   "outputs": [],
   "source": [
    "weather_cleaned = data_wrangling_weather(weather_df, fill_missing='mean')"
   ]
  },
  {
   "cell_type": "code",
   "execution_count": 13,
   "id": "4fa09552-be5f-451c-97ac-97a8a4d50504",
   "metadata": {},
   "outputs": [
    {
     "data": {
      "text/html": [
       "<div>\n",
       "<style scoped>\n",
       "    .dataframe tbody tr th:only-of-type {\n",
       "        vertical-align: middle;\n",
       "    }\n",
       "\n",
       "    .dataframe tbody tr th {\n",
       "        vertical-align: top;\n",
       "    }\n",
       "\n",
       "    .dataframe thead th {\n",
       "        text-align: right;\n",
       "    }\n",
       "</style>\n",
       "<table border=\"1\" class=\"dataframe\">\n",
       "  <thead>\n",
       "    <tr style=\"text-align: right;\">\n",
       "      <th></th>\n",
       "      <th>created_at</th>\n",
       "      <th>entry_id</th>\n",
       "      <th>field1</th>\n",
       "      <th>field2</th>\n",
       "      <th>field3</th>\n",
       "      <th>field4</th>\n",
       "      <th>field5</th>\n",
       "    </tr>\n",
       "  </thead>\n",
       "  <tbody>\n",
       "    <tr>\n",
       "      <th>0</th>\n",
       "      <td>2025-03-22 05:28:04+00:00</td>\n",
       "      <td>3249424</td>\n",
       "      <td>29</td>\n",
       "      <td>33</td>\n",
       "      <td>136</td>\n",
       "      <td>1009</td>\n",
       "      <td>12.85</td>\n",
       "    </tr>\n",
       "    <tr>\n",
       "      <th>1</th>\n",
       "      <td>2025-03-22 05:28:34+00:00</td>\n",
       "      <td>3249425</td>\n",
       "      <td>29</td>\n",
       "      <td>33</td>\n",
       "      <td>136</td>\n",
       "      <td>1009</td>\n",
       "      <td>12.92</td>\n",
       "    </tr>\n",
       "    <tr>\n",
       "      <th>2</th>\n",
       "      <td>2025-03-22 05:29:05+00:00</td>\n",
       "      <td>3249426</td>\n",
       "      <td>29</td>\n",
       "      <td>33</td>\n",
       "      <td>136</td>\n",
       "      <td>1009</td>\n",
       "      <td>12.81</td>\n",
       "    </tr>\n",
       "    <tr>\n",
       "      <th>3</th>\n",
       "      <td>2025-03-22 05:29:35+00:00</td>\n",
       "      <td>3249427</td>\n",
       "      <td>29</td>\n",
       "      <td>33</td>\n",
       "      <td>136</td>\n",
       "      <td>1009</td>\n",
       "      <td>12.85</td>\n",
       "    </tr>\n",
       "    <tr>\n",
       "      <th>4</th>\n",
       "      <td>2025-03-22 05:30:06+00:00</td>\n",
       "      <td>3249428</td>\n",
       "      <td>29</td>\n",
       "      <td>33</td>\n",
       "      <td>136</td>\n",
       "      <td>1009</td>\n",
       "      <td>12.85</td>\n",
       "    </tr>\n",
       "  </tbody>\n",
       "</table>\n",
       "</div>"
      ],
      "text/plain": [
       "                  created_at  entry_id  field1  field2  field3  field4  field5\n",
       "0  2025-03-22 05:28:04+00:00   3249424      29      33     136    1009   12.85\n",
       "1  2025-03-22 05:28:34+00:00   3249425      29      33     136    1009   12.92\n",
       "2  2025-03-22 05:29:05+00:00   3249426      29      33     136    1009   12.81\n",
       "3  2025-03-22 05:29:35+00:00   3249427      29      33     136    1009   12.85\n",
       "4  2025-03-22 05:30:06+00:00   3249428      29      33     136    1009   12.85"
      ]
     },
     "execution_count": 13,
     "metadata": {},
     "output_type": "execute_result"
    }
   ],
   "source": [
    "weather_cleaned.head()"
   ]
  },
  {
   "cell_type": "code",
   "execution_count": 14,
   "id": "9b6acf30-dd49-4a6f-804c-0374cd770b27",
   "metadata": {},
   "outputs": [
    {
     "name": "stdout",
     "output_type": "stream",
     "text": [
      "created_at     object\n",
      "entry_id        int64\n",
      "field1          int64\n",
      "field2          int64\n",
      "field3          int64\n",
      "field4          int64\n",
      "field5        float64\n",
      "dtype: object\n"
     ]
    }
   ],
   "source": [
    "print(weather_cleaned.dtypes)"
   ]
  },
  {
   "cell_type": "code",
   "execution_count": 15,
   "id": "73965e3d-0c4c-4cb1-b820-8f4c811721ec",
   "metadata": {},
   "outputs": [],
   "source": [
    "start_numeric_index = 2"
   ]
  },
  {
   "cell_type": "code",
   "execution_count": 59,
   "id": "15848bfb-23ef-489c-8661-2f9c56ad089d",
   "metadata": {},
   "outputs": [],
   "source": [
    "weather_normalized = normalize(weather_cleaned, start_numeric_index, method='zscore')"
   ]
  },
  {
   "cell_type": "code",
   "execution_count": 60,
   "id": "eeb438db-c96d-4db4-b3fc-a9122d4cef04",
   "metadata": {},
   "outputs": [],
   "source": [
    "weather_normalized = normalize(weather_cleaned, start_numeric_index, method='minmax')"
   ]
  },
  {
   "cell_type": "code",
   "execution_count": 61,
   "id": "008993c4-c272-41ce-be97-4bc80c46a671",
   "metadata": {},
   "outputs": [
    {
     "data": {
      "text/html": [
       "<div>\n",
       "<style scoped>\n",
       "    .dataframe tbody tr th:only-of-type {\n",
       "        vertical-align: middle;\n",
       "    }\n",
       "\n",
       "    .dataframe tbody tr th {\n",
       "        vertical-align: top;\n",
       "    }\n",
       "\n",
       "    .dataframe thead th {\n",
       "        text-align: right;\n",
       "    }\n",
       "</style>\n",
       "<table border=\"1\" class=\"dataframe\">\n",
       "  <thead>\n",
       "    <tr style=\"text-align: right;\">\n",
       "      <th></th>\n",
       "      <th>created_at</th>\n",
       "      <th>entry_id</th>\n",
       "      <th>field1</th>\n",
       "      <th>field2</th>\n",
       "      <th>field3</th>\n",
       "      <th>field4</th>\n",
       "      <th>field5</th>\n",
       "    </tr>\n",
       "  </thead>\n",
       "  <tbody>\n",
       "    <tr>\n",
       "      <th>0</th>\n",
       "      <td>2025-03-22 05:28:04+00:00</td>\n",
       "      <td>0.000000</td>\n",
       "      <td>1.0</td>\n",
       "      <td>1.0</td>\n",
       "      <td>1.0</td>\n",
       "      <td>1.0</td>\n",
       "      <td>0.50</td>\n",
       "    </tr>\n",
       "    <tr>\n",
       "      <th>1</th>\n",
       "      <td>2025-03-22 05:28:34+00:00</td>\n",
       "      <td>0.005025</td>\n",
       "      <td>1.0</td>\n",
       "      <td>1.0</td>\n",
       "      <td>1.0</td>\n",
       "      <td>1.0</td>\n",
       "      <td>0.85</td>\n",
       "    </tr>\n",
       "    <tr>\n",
       "      <th>2</th>\n",
       "      <td>2025-03-22 05:29:05+00:00</td>\n",
       "      <td>0.010050</td>\n",
       "      <td>1.0</td>\n",
       "      <td>1.0</td>\n",
       "      <td>1.0</td>\n",
       "      <td>1.0</td>\n",
       "      <td>0.30</td>\n",
       "    </tr>\n",
       "    <tr>\n",
       "      <th>3</th>\n",
       "      <td>2025-03-22 05:29:35+00:00</td>\n",
       "      <td>0.015075</td>\n",
       "      <td>1.0</td>\n",
       "      <td>1.0</td>\n",
       "      <td>1.0</td>\n",
       "      <td>1.0</td>\n",
       "      <td>0.50</td>\n",
       "    </tr>\n",
       "    <tr>\n",
       "      <th>4</th>\n",
       "      <td>2025-03-22 05:30:06+00:00</td>\n",
       "      <td>0.020101</td>\n",
       "      <td>1.0</td>\n",
       "      <td>1.0</td>\n",
       "      <td>1.0</td>\n",
       "      <td>1.0</td>\n",
       "      <td>0.50</td>\n",
       "    </tr>\n",
       "  </tbody>\n",
       "</table>\n",
       "</div>"
      ],
      "text/plain": [
       "                  created_at  entry_id  field1  field2  field3  field4  field5\n",
       "0  2025-03-22 05:28:04+00:00  0.000000     1.0     1.0     1.0     1.0    0.50\n",
       "1  2025-03-22 05:28:34+00:00  0.005025     1.0     1.0     1.0     1.0    0.85\n",
       "2  2025-03-22 05:29:05+00:00  0.010050     1.0     1.0     1.0     1.0    0.30\n",
       "3  2025-03-22 05:29:35+00:00  0.015075     1.0     1.0     1.0     1.0    0.50\n",
       "4  2025-03-22 05:30:06+00:00  0.020101     1.0     1.0     1.0     1.0    0.50"
      ]
     },
     "execution_count": 61,
     "metadata": {},
     "output_type": "execute_result"
    }
   ],
   "source": [
    "weather_normalized.head()"
   ]
  },
  {
   "cell_type": "code",
   "execution_count": null,
   "id": "8e94ebad-d0fc-42de-b76c-9a98c7faa4bb",
   "metadata": {},
   "outputs": [],
   "source": []
  },
  {
   "cell_type": "markdown",
   "id": "7001446f-a6ca-41f9-8506-8e9fc80a250d",
   "metadata": {},
   "source": [
    "### Time Series dataset (excel file)"
   ]
  },
  {
   "cell_type": "code",
   "execution_count": 19,
   "id": "49a27360-a753-4336-9f72-417e4f709434",
   "metadata": {},
   "outputs": [],
   "source": [
    "sensor_df = pd.read_excel('Time series.xlsx')"
   ]
  },
  {
   "cell_type": "code",
   "execution_count": 20,
   "id": "e85e60c3-0230-42c3-b2e2-5a417dbfd23e",
   "metadata": {},
   "outputs": [
    {
     "data": {
      "text/html": [
       "<div>\n",
       "<style scoped>\n",
       "    .dataframe tbody tr th:only-of-type {\n",
       "        vertical-align: middle;\n",
       "    }\n",
       "\n",
       "    .dataframe tbody tr th {\n",
       "        vertical-align: top;\n",
       "    }\n",
       "\n",
       "    .dataframe thead th {\n",
       "        text-align: right;\n",
       "    }\n",
       "</style>\n",
       "<table border=\"1\" class=\"dataframe\">\n",
       "  <thead>\n",
       "    <tr style=\"text-align: right;\">\n",
       "      <th></th>\n",
       "      <th>Ignore</th>\n",
       "      <th>Clock Time</th>\n",
       "      <th>time</th>\n",
       "      <th>sensor 1</th>\n",
       "      <th>sensor 2</th>\n",
       "      <th>sensor 3</th>\n",
       "      <th>Unnamed: 6</th>\n",
       "      <th>c(s1, s2)</th>\n",
       "      <th>c(s2, s3)</th>\n",
       "      <th>c(s1, s3)</th>\n",
       "    </tr>\n",
       "  </thead>\n",
       "  <tbody>\n",
       "    <tr>\n",
       "      <th>0</th>\n",
       "      <td>0.00</td>\n",
       "      <td>00:00:00</td>\n",
       "      <td>0</td>\n",
       "      <td>1.000000</td>\n",
       "      <td>2.00000</td>\n",
       "      <td>0.700000</td>\n",
       "      <td>NaN</td>\n",
       "      <td>NaN</td>\n",
       "      <td>NaN</td>\n",
       "      <td>NaN</td>\n",
       "    </tr>\n",
       "    <tr>\n",
       "      <th>1</th>\n",
       "      <td>0.01</td>\n",
       "      <td>00:10:00</td>\n",
       "      <td>1</td>\n",
       "      <td>1.010000</td>\n",
       "      <td>1.99995</td>\n",
       "      <td>0.707000</td>\n",
       "      <td>NaN</td>\n",
       "      <td>w=15</td>\n",
       "      <td>NaN</td>\n",
       "      <td>NaN</td>\n",
       "    </tr>\n",
       "    <tr>\n",
       "      <th>2</th>\n",
       "      <td>0.02</td>\n",
       "      <td>00:20:00</td>\n",
       "      <td>2</td>\n",
       "      <td>1.019999</td>\n",
       "      <td>1.99980</td>\n",
       "      <td>0.713999</td>\n",
       "      <td>NaN</td>\n",
       "      <td>NaN</td>\n",
       "      <td>NaN</td>\n",
       "      <td>NaN</td>\n",
       "    </tr>\n",
       "    <tr>\n",
       "      <th>3</th>\n",
       "      <td>0.03</td>\n",
       "      <td>00:30:00</td>\n",
       "      <td>3</td>\n",
       "      <td>1.029996</td>\n",
       "      <td>1.99955</td>\n",
       "      <td>0.720997</td>\n",
       "      <td>NaN</td>\n",
       "      <td>NaN</td>\n",
       "      <td>NaN</td>\n",
       "      <td>NaN</td>\n",
       "    </tr>\n",
       "    <tr>\n",
       "      <th>4</th>\n",
       "      <td>0.04</td>\n",
       "      <td>00:40:00</td>\n",
       "      <td>4</td>\n",
       "      <td>1.039989</td>\n",
       "      <td>1.99920</td>\n",
       "      <td>0.727993</td>\n",
       "      <td>NaN</td>\n",
       "      <td>NaN</td>\n",
       "      <td>NaN</td>\n",
       "      <td>NaN</td>\n",
       "    </tr>\n",
       "  </tbody>\n",
       "</table>\n",
       "</div>"
      ],
      "text/plain": [
       "   Ignore Clock Time  time  sensor 1  sensor 2  sensor 3  Unnamed: 6  \\\n",
       "0    0.00   00:00:00     0  1.000000   2.00000  0.700000         NaN   \n",
       "1    0.01   00:10:00     1  1.010000   1.99995  0.707000         NaN   \n",
       "2    0.02   00:20:00     2  1.019999   1.99980  0.713999         NaN   \n",
       "3    0.03   00:30:00     3  1.029996   1.99955  0.720997         NaN   \n",
       "4    0.04   00:40:00     4  1.039989   1.99920  0.727993         NaN   \n",
       "\n",
       "  c(s1, s2)  c(s2, s3)  c(s1, s3)  \n",
       "0       NaN        NaN        NaN  \n",
       "1      w=15        NaN        NaN  \n",
       "2       NaN        NaN        NaN  \n",
       "3       NaN        NaN        NaN  \n",
       "4       NaN        NaN        NaN  "
      ]
     },
     "execution_count": 20,
     "metadata": {},
     "output_type": "execute_result"
    }
   ],
   "source": [
    "sensor_df.head()"
   ]
  },
  {
   "cell_type": "code",
   "execution_count": 21,
   "id": "f06dd416-3c64-43c1-b1d9-86c2d6f55082",
   "metadata": {},
   "outputs": [],
   "source": [
    "sensor_df = sensor_df.iloc[:, 1:6].copy()"
   ]
  },
  {
   "cell_type": "code",
   "execution_count": 22,
   "id": "d45e2816-214d-4ceb-8b03-c8a18428c7e2",
   "metadata": {},
   "outputs": [],
   "source": [
    "sensor_cleaned = data_wrangling_sensor(sensor_df)"
   ]
  },
  {
   "cell_type": "code",
   "execution_count": 23,
   "id": "d9df6b3b-fff0-4b54-b9f4-75bbafadcf22",
   "metadata": {},
   "outputs": [
    {
     "data": {
      "text/html": [
       "<div>\n",
       "<style scoped>\n",
       "    .dataframe tbody tr th:only-of-type {\n",
       "        vertical-align: middle;\n",
       "    }\n",
       "\n",
       "    .dataframe tbody tr th {\n",
       "        vertical-align: top;\n",
       "    }\n",
       "\n",
       "    .dataframe thead th {\n",
       "        text-align: right;\n",
       "    }\n",
       "</style>\n",
       "<table border=\"1\" class=\"dataframe\">\n",
       "  <thead>\n",
       "    <tr style=\"text-align: right;\">\n",
       "      <th></th>\n",
       "      <th>Clock Time</th>\n",
       "      <th>time</th>\n",
       "      <th>sensor 1</th>\n",
       "      <th>sensor 2</th>\n",
       "      <th>sensor 3</th>\n",
       "    </tr>\n",
       "  </thead>\n",
       "  <tbody>\n",
       "    <tr>\n",
       "      <th>0</th>\n",
       "      <td>00:00:00</td>\n",
       "      <td>0</td>\n",
       "      <td>1.000000</td>\n",
       "      <td>2.00000</td>\n",
       "      <td>0.700000</td>\n",
       "    </tr>\n",
       "    <tr>\n",
       "      <th>1</th>\n",
       "      <td>00:10:00</td>\n",
       "      <td>1</td>\n",
       "      <td>1.010000</td>\n",
       "      <td>1.99995</td>\n",
       "      <td>0.707000</td>\n",
       "    </tr>\n",
       "    <tr>\n",
       "      <th>2</th>\n",
       "      <td>00:20:00</td>\n",
       "      <td>2</td>\n",
       "      <td>1.019999</td>\n",
       "      <td>1.99980</td>\n",
       "      <td>0.713999</td>\n",
       "    </tr>\n",
       "    <tr>\n",
       "      <th>3</th>\n",
       "      <td>00:30:00</td>\n",
       "      <td>3</td>\n",
       "      <td>1.029996</td>\n",
       "      <td>1.99955</td>\n",
       "      <td>0.720997</td>\n",
       "    </tr>\n",
       "    <tr>\n",
       "      <th>4</th>\n",
       "      <td>00:40:00</td>\n",
       "      <td>4</td>\n",
       "      <td>1.039989</td>\n",
       "      <td>1.99920</td>\n",
       "      <td>0.727993</td>\n",
       "    </tr>\n",
       "  </tbody>\n",
       "</table>\n",
       "</div>"
      ],
      "text/plain": [
       "  Clock Time  time  sensor 1  sensor 2  sensor 3\n",
       "0   00:00:00     0  1.000000   2.00000  0.700000\n",
       "1   00:10:00     1  1.010000   1.99995  0.707000\n",
       "2   00:20:00     2  1.019999   1.99980  0.713999\n",
       "3   00:30:00     3  1.029996   1.99955  0.720997\n",
       "4   00:40:00     4  1.039989   1.99920  0.727993"
      ]
     },
     "execution_count": 23,
     "metadata": {},
     "output_type": "execute_result"
    }
   ],
   "source": [
    "sensor_cleaned.head()"
   ]
  },
  {
   "cell_type": "code",
   "execution_count": 24,
   "id": "337e8321-ad3a-4aa2-85e7-3a3c9e0bf45d",
   "metadata": {},
   "outputs": [],
   "source": [
    "start_numeric_index = 1"
   ]
  },
  {
   "cell_type": "code",
   "execution_count": 25,
   "id": "f68b05aa-70f7-4548-bdac-de81032022d1",
   "metadata": {},
   "outputs": [],
   "source": [
    "sensor_normalized = normalize(sensor_cleaned, start_numeric_index, method='minmax')"
   ]
  },
  {
   "cell_type": "code",
   "execution_count": 26,
   "id": "afa91a4b-a7ea-459c-8e8f-eb10d042d784",
   "metadata": {},
   "outputs": [
    {
     "data": {
      "text/html": [
       "<div>\n",
       "<style scoped>\n",
       "    .dataframe tbody tr th:only-of-type {\n",
       "        vertical-align: middle;\n",
       "    }\n",
       "\n",
       "    .dataframe tbody tr th {\n",
       "        vertical-align: top;\n",
       "    }\n",
       "\n",
       "    .dataframe thead th {\n",
       "        text-align: right;\n",
       "    }\n",
       "</style>\n",
       "<table border=\"1\" class=\"dataframe\">\n",
       "  <thead>\n",
       "    <tr style=\"text-align: right;\">\n",
       "      <th></th>\n",
       "      <th>Clock Time</th>\n",
       "      <th>time</th>\n",
       "      <th>sensor 1</th>\n",
       "      <th>sensor 2</th>\n",
       "      <th>sensor 3</th>\n",
       "    </tr>\n",
       "  </thead>\n",
       "  <tbody>\n",
       "    <tr>\n",
       "      <th>0</th>\n",
       "      <td>00:00:00</td>\n",
       "      <td>0.000000</td>\n",
       "      <td>0.499999</td>\n",
       "      <td>1.000000</td>\n",
       "      <td>0.499999</td>\n",
       "    </tr>\n",
       "    <tr>\n",
       "      <th>1</th>\n",
       "      <td>00:10:00</td>\n",
       "      <td>0.000993</td>\n",
       "      <td>0.504999</td>\n",
       "      <td>0.999975</td>\n",
       "      <td>0.504999</td>\n",
       "    </tr>\n",
       "    <tr>\n",
       "      <th>2</th>\n",
       "      <td>00:20:00</td>\n",
       "      <td>0.001986</td>\n",
       "      <td>0.509999</td>\n",
       "      <td>0.999900</td>\n",
       "      <td>0.509999</td>\n",
       "    </tr>\n",
       "    <tr>\n",
       "      <th>3</th>\n",
       "      <td>00:30:00</td>\n",
       "      <td>0.002979</td>\n",
       "      <td>0.514997</td>\n",
       "      <td>0.999775</td>\n",
       "      <td>0.514997</td>\n",
       "    </tr>\n",
       "    <tr>\n",
       "      <th>4</th>\n",
       "      <td>00:40:00</td>\n",
       "      <td>0.003972</td>\n",
       "      <td>0.519994</td>\n",
       "      <td>0.999600</td>\n",
       "      <td>0.519994</td>\n",
       "    </tr>\n",
       "  </tbody>\n",
       "</table>\n",
       "</div>"
      ],
      "text/plain": [
       "  Clock Time      time  sensor 1  sensor 2  sensor 3\n",
       "0   00:00:00  0.000000  0.499999  1.000000  0.499999\n",
       "1   00:10:00  0.000993  0.504999  0.999975  0.504999\n",
       "2   00:20:00  0.001986  0.509999  0.999900  0.509999\n",
       "3   00:30:00  0.002979  0.514997  0.999775  0.514997\n",
       "4   00:40:00  0.003972  0.519994  0.999600  0.519994"
      ]
     },
     "execution_count": 26,
     "metadata": {},
     "output_type": "execute_result"
    }
   ],
   "source": [
    "sensor_normalized.head()"
   ]
  },
  {
   "cell_type": "code",
   "execution_count": null,
   "id": "ab202f29-5794-4f02-ae4a-39deca6d9c62",
   "metadata": {},
   "outputs": [],
   "source": []
  },
  {
   "cell_type": "markdown",
   "id": "49de1080-efce-4e64-8173-646a6a9c9f40",
   "metadata": {},
   "source": [
    "### simple & complex datasets"
   ]
  },
  {
   "cell_type": "code",
   "execution_count": 27,
   "id": "2105f478-948d-493d-b702-1f4bf3f1e031",
   "metadata": {},
   "outputs": [],
   "source": [
    "simple_df = pd.read_csv('simple.csv')  #can replace by complex.csv"
   ]
  },
  {
   "cell_type": "code",
   "execution_count": 28,
   "id": "0e879dbe-43b4-486c-a971-bf00491cbb8e",
   "metadata": {},
   "outputs": [
    {
     "data": {
      "text/html": [
       "<div>\n",
       "<style scoped>\n",
       "    .dataframe tbody tr th:only-of-type {\n",
       "        vertical-align: middle;\n",
       "    }\n",
       "\n",
       "    .dataframe tbody tr th {\n",
       "        vertical-align: top;\n",
       "    }\n",
       "\n",
       "    .dataframe thead th {\n",
       "        text-align: right;\n",
       "    }\n",
       "</style>\n",
       "<table border=\"1\" class=\"dataframe\">\n",
       "  <thead>\n",
       "    <tr style=\"text-align: right;\">\n",
       "      <th></th>\n",
       "      <th>time</th>\n",
       "      <th>s1</th>\n",
       "      <th>s2</th>\n",
       "      <th>s3</th>\n",
       "    </tr>\n",
       "  </thead>\n",
       "  <tbody>\n",
       "    <tr>\n",
       "      <th>0</th>\n",
       "      <td>0</td>\n",
       "      <td>1.000000</td>\n",
       "      <td>2.00000</td>\n",
       "      <td>0.700000</td>\n",
       "    </tr>\n",
       "    <tr>\n",
       "      <th>1</th>\n",
       "      <td>1</td>\n",
       "      <td>1.010000</td>\n",
       "      <td>1.99995</td>\n",
       "      <td>0.707000</td>\n",
       "    </tr>\n",
       "    <tr>\n",
       "      <th>2</th>\n",
       "      <td>2</td>\n",
       "      <td>1.019999</td>\n",
       "      <td>1.99980</td>\n",
       "      <td>0.713999</td>\n",
       "    </tr>\n",
       "    <tr>\n",
       "      <th>3</th>\n",
       "      <td>3</td>\n",
       "      <td>1.029996</td>\n",
       "      <td>1.99955</td>\n",
       "      <td>0.720997</td>\n",
       "    </tr>\n",
       "    <tr>\n",
       "      <th>4</th>\n",
       "      <td>4</td>\n",
       "      <td>1.039989</td>\n",
       "      <td>1.99920</td>\n",
       "      <td>0.727993</td>\n",
       "    </tr>\n",
       "  </tbody>\n",
       "</table>\n",
       "</div>"
      ],
      "text/plain": [
       "   time        s1       s2        s3\n",
       "0     0  1.000000  2.00000  0.700000\n",
       "1     1  1.010000  1.99995  0.707000\n",
       "2     2  1.019999  1.99980  0.713999\n",
       "3     3  1.029996  1.99955  0.720997\n",
       "4     4  1.039989  1.99920  0.727993"
      ]
     },
     "execution_count": 28,
     "metadata": {},
     "output_type": "execute_result"
    }
   ],
   "source": [
    "simple_df.head()"
   ]
  },
  {
   "cell_type": "code",
   "execution_count": 29,
   "id": "8c685e2b-b9da-4723-ade1-108439b43798",
   "metadata": {},
   "outputs": [],
   "source": [
    "simple_cleaned = data_wrangling_sensor(simple_df)"
   ]
  },
  {
   "cell_type": "code",
   "execution_count": 30,
   "id": "dfa3d6e9-6d87-46cd-92ce-a8acbf91e6ca",
   "metadata": {},
   "outputs": [],
   "source": [
    "start_numeric_index = 1"
   ]
  },
  {
   "cell_type": "code",
   "execution_count": 31,
   "id": "e6be370b-3367-483e-a268-b647940b5dff",
   "metadata": {},
   "outputs": [],
   "source": [
    "simple_normalized = normalize(simple_cleaned, start_numeric_index, method='minmax')"
   ]
  },
  {
   "cell_type": "code",
   "execution_count": 32,
   "id": "b379dc11-8d84-4412-9210-a805bd94fb9b",
   "metadata": {},
   "outputs": [
    {
     "data": {
      "text/html": [
       "<div>\n",
       "<style scoped>\n",
       "    .dataframe tbody tr th:only-of-type {\n",
       "        vertical-align: middle;\n",
       "    }\n",
       "\n",
       "    .dataframe tbody tr th {\n",
       "        vertical-align: top;\n",
       "    }\n",
       "\n",
       "    .dataframe thead th {\n",
       "        text-align: right;\n",
       "    }\n",
       "</style>\n",
       "<table border=\"1\" class=\"dataframe\">\n",
       "  <thead>\n",
       "    <tr style=\"text-align: right;\">\n",
       "      <th></th>\n",
       "      <th>time</th>\n",
       "      <th>s1</th>\n",
       "      <th>s2</th>\n",
       "      <th>s3</th>\n",
       "    </tr>\n",
       "  </thead>\n",
       "  <tbody>\n",
       "    <tr>\n",
       "      <th>0</th>\n",
       "      <td>0</td>\n",
       "      <td>0.499999</td>\n",
       "      <td>1.000000</td>\n",
       "      <td>0.499999</td>\n",
       "    </tr>\n",
       "    <tr>\n",
       "      <th>1</th>\n",
       "      <td>1</td>\n",
       "      <td>0.504999</td>\n",
       "      <td>0.999975</td>\n",
       "      <td>0.504999</td>\n",
       "    </tr>\n",
       "    <tr>\n",
       "      <th>2</th>\n",
       "      <td>2</td>\n",
       "      <td>0.509999</td>\n",
       "      <td>0.999900</td>\n",
       "      <td>0.509999</td>\n",
       "    </tr>\n",
       "    <tr>\n",
       "      <th>3</th>\n",
       "      <td>3</td>\n",
       "      <td>0.514997</td>\n",
       "      <td>0.999775</td>\n",
       "      <td>0.514997</td>\n",
       "    </tr>\n",
       "    <tr>\n",
       "      <th>4</th>\n",
       "      <td>4</td>\n",
       "      <td>0.519994</td>\n",
       "      <td>0.999600</td>\n",
       "      <td>0.519994</td>\n",
       "    </tr>\n",
       "  </tbody>\n",
       "</table>\n",
       "</div>"
      ],
      "text/plain": [
       "   time        s1        s2        s3\n",
       "0     0  0.499999  1.000000  0.499999\n",
       "1     1  0.504999  0.999975  0.504999\n",
       "2     2  0.509999  0.999900  0.509999\n",
       "3     3  0.514997  0.999775  0.514997\n",
       "4     4  0.519994  0.999600  0.519994"
      ]
     },
     "execution_count": 32,
     "metadata": {},
     "output_type": "execute_result"
    }
   ],
   "source": [
    "simple_normalized.head()"
   ]
  },
  {
   "cell_type": "code",
   "execution_count": 44,
   "id": "e2b0a74b-d3ca-43d7-bae6-2e0741482a40",
   "metadata": {},
   "outputs": [],
   "source": [
    "simple_normalized.columns = ['time', 's1', 's2', 's3']"
   ]
  },
  {
   "cell_type": "code",
   "execution_count": null,
   "id": "92a7741e-e136-4616-ad8f-2e1b87047dc4",
   "metadata": {},
   "outputs": [],
   "source": []
  },
  {
   "cell_type": "markdown",
   "id": "50ac0c39-fb7c-463b-a361-e1bb461a5c8f",
   "metadata": {},
   "source": [
    "### test diagrams (see normalized data distribution)"
   ]
  },
  {
   "cell_type": "code",
   "execution_count": 53,
   "id": "d40015b5-80d9-4ac2-a886-86992fa77e0b",
   "metadata": {},
   "outputs": [
    {
     "data": {
      "image/png": "[encoded data removed]",
      "text/plain": [
       "<Figure size 1500x400 with 3 Axes>"
      ]
     },
     "metadata": {},
     "output_type": "display_data"
    }
   ],
   "source": [
    "fig, axes = plt.subplots(1, 3, figsize=(15, 4), sharey=True)\n",
    "\n",
    "for index, col in enumerate(['s1', 's2', 's3']):\n",
    "    axes[index].hist(simple_normalized[col], bins=30, color='skyblue', edgecolor='black')\n",
    "    axes[index].set_title(f'Histogram of {col} - simple dataset')\n",
    "    axes[index].set_xlabel('Value')\n",
    "    axes[index].set_ylabel('Frequency')\n",
    "\n",
    "plt.tight_layout()\n",
    "plt.show()"
   ]
  }
 ],
 "metadata": {
  "kernelspec": {
   "display_name": "Python 3 (ipykernel)",
   "language": "python",
   "name": "python3"
  },
  "language_info": {
   "codemirror_mode": {
    "name": "ipython",
    "version": 3
   },
   "file_extension": ".py",
   "mimetype": "text/x-python",
   "name": "python",
   "nbconvert_exporter": "python",
   "pygments_lexer": "ipython3",
   "version": "3.13.0"
  }
 },
 "nbformat": 4,
 "nbformat_minor": 5
}
