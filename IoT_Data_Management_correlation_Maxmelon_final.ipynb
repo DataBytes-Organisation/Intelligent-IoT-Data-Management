{
  "nbformat": 4,
  "nbformat_minor": 0,
  "metadata": {
    "colab": {
      "provenance": []
    },
    "kernelspec": {
      "name": "python3",
      "display_name": "Python 3"
    },
    "language_info": {
      "name": "python"
    }
  },
  "cells": [
    {
      "cell_type": "markdown",
      "source": [
        "This is to test get_correlation function."
      ],
      "metadata": {
        "id": "hfl-Wm8q2bo2"
      }
    },
    {
      "cell_type": "code",
      "source": [
        "from google.colab import drive\n",
        "drive.mount('/content/drive')"
      ],
      "metadata": {
        "colab": {
          "base_uri": "https://localhost:8080/"
        },
        "id": "TYY0_F4Wt21m",
        "outputId": "3af5b5ca-cb75-41fb-c254-b9a7c943503a"
      },
      "execution_count": 1,
      "outputs": [
        {
          "output_type": "stream",
          "name": "stdout",
          "text": [
            "Mounted at /content/drive\n"
          ]
        }
      ]
    },
    {
      "cell_type": "code",
      "source": [
        "import sys\n",
        "sys.path.append('/content/drive/MyDrive/Test')"
      ],
      "metadata": {
        "id": "Y9rntlKwuYcN"
      },
      "execution_count": 2,
      "outputs": []
    },
    {
      "cell_type": "code",
      "source": [
        "from get_correlation import analyze_time_series\n",
        "import pandas as pd\n",
        "import os\n",
        "\n",
        "# Example usage:\n",
        "if __name__ == \"__main__\":\n",
        "    try:\n",
        "        # Load data from Google Drive path\n",
        "        df = pd.read_csv('/content/drive/MyDrive/Test/complex.csv').set_index('time')# Change to your own file address\n",
        "\n",
        "        # Return and print the correlation matrix\n",
        "        corr_matrix, outliers = analyze_time_series(\n",
        "            df,\n",
        "            generate_plots=False,  # If in Jupyter, can set True to see plots\n",
        "            export_formats=['csv', 'json'],\n",
        "            export_name='complex_data',\n",
        "            output_dir='/content/drive/MyDrive/Test/'\n",
        "        )\n",
        "\n",
        "        # Print correlation matrix\n",
        "        print(\"Correlation Matrix:\")\n",
        "        print(corr_matrix)\n",
        "\n",
        "        # Save correlation matrix\n",
        "        corr_df = pd.DataFrame(corr_matrix)\n",
        "        corr_csv_path = os.path.join('/content/drive/MyDrive/Test/', 'correlation_matrix.csv')#change the address you want to save\n",
        "        corr_json_path = os.path.join('/content/drive/MyDrive/Test/', 'correlation_matrix.json') #change the address you want to save\n",
        "\n",
        "        # Save CSV\n",
        "        corr_df.to_csv(corr_csv_path)\n",
        "        print(f\"Correlation matrix saved to {corr_csv_path}\")\n",
        "\n",
        "        # Save Jason\n",
        "        corr_df.to_json(corr_json_path, orient='split')\n",
        "        print(f\"Correlation matrix saved to {corr_json_path}\")\n",
        "\n",
        "    except Exception as e:\n",
        "        print(f\"Error loading or processing data: {e}\")"
      ],
      "metadata": {
        "id": "25wFM12U6G5Z",
        "colab": {
          "base_uri": "https://localhost:8080/"
        },
        "outputId": "a4bdcc67-be48-4ee2-81e9-fcc0bb06a69c"
      },
      "execution_count": 7,
      "outputs": [
        {
          "output_type": "stream",
          "name": "stdout",
          "text": [
            "Data saved to /content/drive/MyDrive/Test/complex_data_ready.csv\n",
            "Data saved to /content/drive/MyDrive/Test/complex_data_ready.json\n",
            "Correlation Matrix:\n",
            "          s1        s2        s3\n",
            "s1  1.000000  0.152738  0.960249\n",
            "s2  0.152738  1.000000  0.059872\n",
            "s3  0.960249  0.059872  1.000000\n",
            "Correlation matrix saved to /content/drive/MyDrive/Test/correlation_matrix.csv\n",
            "Correlation matrix saved to /content/drive/MyDrive/Test/correlation_matrix.json\n"
          ]
        }
      ]
    }
  ]
}