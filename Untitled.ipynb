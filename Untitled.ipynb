{
 "cells": [
  {
   "cell_type": "code",
   "execution_count": 9,
   "id": "bb1015ac-2b33-4ae8-8ba7-44c45d92ad35",
   "metadata": {},
   "outputs": [
    {
     "ename": "ImportError",
     "evalue": "cannot import name 'detect_outlier_streams' from 'algorithms.correlation_based' (E:\\Intelligent-IoT-Data-Management\\algorithms\\correlation_based.py)",
     "output_type": "error",
     "traceback": [
      "\u001b[31m---------------------------------------------------------------------------\u001b[39m",
      "\u001b[31mImportError\u001b[39m                               Traceback (most recent call last)",
      "\u001b[36mCell\u001b[39m\u001b[36m \u001b[39m\u001b[32mIn[9]\u001b[39m\u001b[32m, line 8\u001b[39m\n\u001b[32m      6\u001b[39m \u001b[38;5;28;01mimport\u001b[39;00m\u001b[38;5;250m \u001b[39m\u001b[34;01mos\u001b[39;00m\n\u001b[32m      7\u001b[39m sys.path.append(os.path.abspath(\u001b[33m\"\u001b[39m\u001b[33m.\u001b[39m\u001b[33m\"\u001b[39m))\n\u001b[32m----> \u001b[39m\u001b[32m8\u001b[39m \u001b[38;5;28;01mfrom\u001b[39;00m\u001b[38;5;250m \u001b[39m\u001b[34;01malgorithms\u001b[39;00m\u001b[34;01m.\u001b[39;00m\u001b[34;01mcorrelation_based\u001b[39;00m\u001b[38;5;250m \u001b[39m\u001b[38;5;28;01mimport\u001b[39;00m detect_outlier_streams\n\u001b[32m     10\u001b[39m \u001b[38;5;66;03m# --- Read and process sample data ---\u001b[39;00m\n\u001b[32m     11\u001b[39m \u001b[38;5;66;03m# Assume the file 'thingspeak_dataset.csv' has the following structure:\u001b[39;00m\n\u001b[32m     12\u001b[39m \u001b[38;5;66;03m# created_at,entry_id,field1,field2,field3,field4,field5,field6,field7,field8\u001b[39;00m\n\u001b[32m     13\u001b[39m df = pd.read_csv(\u001b[33m'\u001b[39m\u001b[33mdatasets/2881821.csv\u001b[39m\u001b[33m'\u001b[39m, parse_dates=[\u001b[33m'\u001b[39m\u001b[33mcreated_at\u001b[39m\u001b[33m'\u001b[39m])\n",
      "\u001b[31mImportError\u001b[39m: cannot import name 'detect_outlier_streams' from 'algorithms.correlation_based' (E:\\Intelligent-IoT-Data-Management\\algorithms\\correlation_based.py)"
     ]
    }
   ],
   "source": [
    "import pandas as pd\n",
    "import numpy as np\n",
    "import matplotlib.pyplot as plt\n",
    "import seaborn as sns\n",
    "import sys\n",
    "import os\n",
    "sys.path.append(os.path.abspath(\".\"))\n",
    "from algorithms.correlation_based import detect_outlier_streams\n",
    "\n",
    "# --- Read and process sample data ---\n",
    "# Assume the file 'thingspeak_dataset.csv' has the following structure:\n",
    "# created_at,entry_id,field1,field2,field3,field4,field5,field6,field7,field8\n",
    "df = pd.read_csv('datasets/2881821.csv', parse_dates=['created_at'])\n",
    "df.sort_values(by='created_at', inplace=True)\n",
    "df.set_index('created_at', inplace=True)\n",
    "df = df.interpolate()\n",
    "\n",
    "# --- Example usage of the detect_outlier_streams function ---\n",
    "# Choose at least 3 streams for analysis, for example: field1, field2, field3, field5\n",
    "streams_to_check = ['field1', 'field2', 'field3','field6']\n",
    "start_date = '2025-03-18 06:54:00'\n",
    "end_date = '2025-03-18 06:58:00'\n",
    "\n",
    "results = detect_outlier_streams(df, streams_to_check, start_date, end_date)\n",
    "\n",
    "print(\"\\nOutlier detection results:\")\n",
    "print(results)\n"
   ]
  },
  {
   "cell_type": "code",
   "execution_count": 8,
   "id": "46613bc0-c5a9-47bd-82f0-5a4c8a24a04d",
   "metadata": {},
   "outputs": [],
   "source": []
  },
  {
   "cell_type": "code",
   "execution_count": null,
   "id": "642337e9-4a66-421b-a6a4-cbee42c3884c",
   "metadata": {},
   "outputs": [],
   "source": []
  },
  {
   "cell_type": "code",
   "execution_count": null,
   "id": "14d128cd-7de1-4c57-a36f-2383f28c1598",
   "metadata": {},
   "outputs": [],
   "source": []
  }
 ],
 "metadata": {
  "kernelspec": {
   "display_name": "Python 3 (ipykernel)",
   "language": "python",
   "name": "python3"
  },
  "language_info": {
   "codemirror_mode": {
    "name": "ipython",
    "version": 3
   },
   "file_extension": ".py",
   "mimetype": "text/x-python",
   "name": "python",
   "nbconvert_exporter": "python",
   "pygments_lexer": "ipython3",
   "version": "3.11.5"
  }
 },
 "nbformat": 4,
 "nbformat_minor": 5
}
