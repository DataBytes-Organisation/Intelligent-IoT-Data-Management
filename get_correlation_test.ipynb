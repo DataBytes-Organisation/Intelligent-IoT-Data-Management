{
  "nbformat": 4,
  "nbformat_minor": 0,
  "metadata": {
    "colab": {
      "provenance": []
    },
    "kernelspec": {
      "name": "python3",
      "display_name": "Python 3"
    },
    "language_info": {
      "name": "python"
    }
  },
  "cells": [
    {
      "cell_type": "markdown",
      "source": [],
      "metadata": {
        "id": "hfl-Wm8q2bo2"
      }
    },
    {
      "cell_type": "markdown",
      "source": [
        "This part includes correlation_function which aims to find the correlation of the Display correlation relationships as heatmap. Display correlation relationships as a plot over time-period."
      ],
      "metadata": {
        "id": "v0qdfTKP6MAF"
      }
    },
    {
      "cell_type": "code",
      "source": [
        "from google.colab import drive\n",
        "drive.mount('/content/drive')"
      ],
      "metadata": {
        "colab": {
          "base_uri": "https://localhost:8080/"
        },
        "id": "TYY0_F4Wt21m",
        "outputId": "42e5b0f7-760c-468b-bbc4-fe1ff70a9264"
      },
      "execution_count": 1,
      "outputs": [
        {
          "output_type": "stream",
          "name": "stdout",
          "text": [
            "Mounted at /content/drive\n"
          ]
        }
      ]
    },
    {
      "cell_type": "code",
      "source": [
        "#import sys\n",
        "#sys.path.append('/content/drive/MyDrive/Test')"
      ],
      "metadata": {
        "id": "Y9rntlKwuYcN"
      },
      "execution_count": 3,
      "outputs": []
    },
    {
      "cell_type": "code",
      "source": [
        "#!/usr/bin/env python\n",
        "# coding: utf-8\n",
        "\n",
        "\"\"\"\n",
        "time_series_analyzer.py\n",
        "A module for analyzing time series data correlations and outliers,\n",
        "with options to export data in CSV and JSON formats to specified directories.\n",
        "\"\"\"\n",
        "\n",
        "import pandas as pd\n",
        "import numpy as np\n",
        "import seaborn as sns\n",
        "import matplotlib.pyplot as plt\n",
        "from scipy import stats\n",
        "import os\n",
        "\n",
        "def calculate_correlations(df):\n",
        "    \"\"\"\n",
        "    Calculate correlation matrix for numeric columns in the DataFrame.\n",
        "\n",
        "    Args:\n",
        "        df (pd.DataFrame): Input time series data with numeric columns\n",
        "\n",
        "    Returns:\n",
        "        pd.DataFrame: Correlation matrix\n",
        "    \"\"\"\n",
        "    return df.corr()\n",
        "\n",
        "def detect_outliers(df, method='zscore', threshold=3):\n",
        "    \"\"\"\n",
        "    Detect outliers in time series data using specified method.\n",
        "\n",
        "    Args:\n",
        "        df (pd.DataFrame): Input time series data\n",
        "        method (str): 'zscore' or 'iqr'\n",
        "        threshold (float): Detection sensitivity\n",
        "\n",
        "    Returns:\n",
        "        dict: Outlier indices per column {column: [indices]}\n",
        "    \"\"\"\n",
        "    outliers = {}\n",
        "\n",
        "    for col in df.columns:\n",
        "        if method == 'zscore':\n",
        "            z_scores = np.abs(stats.zscore(df[col]))\n",
        "            outliers[col] = np.where(z_scores > threshold)[0]\n",
        "        elif method == 'iqr':\n",
        "            q1 = df[col].quantile(0.25)\n",
        "            q3 = df[col].quantile(0.75)\n",
        "            iqr = q3 - q1\n",
        "            outliers[col] = df[(df[col] < (q1 - 1.5 * iqr)) |\n",
        "                               (df[col] > (q3 + 1.5 * iqr))].index.tolist()\n",
        "    return outliers\n",
        "\n",
        "def plot_correlation_heatmap(corr_matrix, figsize=(10, 8)):\n",
        "    \"\"\"\n",
        "    Plot correlation matrix as heatmap.\n",
        "\n",
        "    Args:\n",
        "        corr_matrix (pd.DataFrame): Correlation matrix\n",
        "        figsize (tuple): Figure dimensions\n",
        "    \"\"\"\n",
        "    plt.figure(figsize=figsize)\n",
        "    sns.heatmap(corr_matrix, annot=True, cmap='coolwarm',\n",
        "                fmt='.2f', linewidths=0.5)\n",
        "    plt.title(\"Correlation Heatmap\")\n",
        "    plt.show()\n",
        "\n",
        "def plot_time_series(df, outliers=None, figsize=(12, 6)):\n",
        "    \"\"\"\n",
        "    Plot time series data with optional outlier highlighting.\n",
        "\n",
        "    Args:\n",
        "        df (pd.DataFrame): Time series data\n",
        "        outliers (dict): Outlier indices from detect_outliers()\n",
        "        figsize (tuple): Figure dimensions\n",
        "    \"\"\"\n",
        "    plt.figure(figsize=figsize)\n",
        "\n",
        "    for col in df.columns:\n",
        "        # Plot main series\n",
        "        plt.plot(df.index, df[col], label=col, alpha=0.7)\n",
        "\n",
        "        # Highlight outliers if provided\n",
        "        if outliers and col in outliers:\n",
        "            outlier_idx = outliers[col]\n",
        "            plt.scatter(df.index[outlier_idx], df[col].iloc[outlier_idx],\n",
        "                        color='red', marker='o', s=50,\n",
        "                        label=f'{col} Outliers', zorder=3)\n",
        "\n",
        "    plt.title(\"Time Series with Correlations\")\n",
        "    plt.xlabel(\"Time\")\n",
        "    plt.ylabel(\"Value\")\n",
        "    plt.legend(loc='upper left', bbox_to_anchor=(1, 1))\n",
        "    plt.tight_layout()\n",
        "    plt.show()\n",
        "\n",
        "def export_data(df, name, output_dir=None, export_formats=None):\n",
        "    \"\"\"\n",
        "    Export processed data in specified formats to the given directory.\n",
        "\n",
        "    Args:\n",
        "        df (pd.DataFrame): DataFrame to export\n",
        "        name (str): Base name for the output files\n",
        "        output_dir (str): Directory path for output files (default: current directory)\n",
        "        export_formats (list): List of formats to export ('csv', 'json')\n",
        "    \"\"\"\n",
        "    if export_formats is None:\n",
        "        export_formats = ['csv', 'json']\n",
        "\n",
        "    # If output_dir is specified, ensure it exists\n",
        "    if output_dir and not os.path.exists(output_dir):\n",
        "        try:\n",
        "            os.makedirs(output_dir)\n",
        "            print(f\"Created directory: {output_dir}\")\n",
        "        except Exception as e:\n",
        "            print(f\"Error creating directory {output_dir}: {e}\")\n",
        "            output_dir = None\n",
        "\n",
        "    # Prepare file paths\n",
        "    if output_dir:\n",
        "        csv_path = os.path.join(output_dir, f'{name}_ready.csv')\n",
        "        json_path = os.path.join(output_dir, f'{name}_ready.json')\n",
        "    else:\n",
        "        csv_path = f'{name}_ready.csv'\n",
        "        json_path = f'{name}_ready.json'\n",
        "\n",
        "    if 'csv' in export_formats:\n",
        "        df.to_csv(csv_path, index=False)\n",
        "        print(f\"Data saved to {csv_path}\")\n",
        "\n",
        "    if 'json' in export_formats:\n",
        "        df.to_json(json_path, orient='records', date_format='iso')\n",
        "        print(f\"Data saved to {json_path}\")\n",
        "\n",
        "def analyze_time_series(df, outlier_method='zscore', outlier_threshold=3,\n",
        "                        generate_plots=True, export_formats=None,\n",
        "                        export_name=None, output_dir=None):\n",
        "    \"\"\"\n",
        "    Main analysis function combining correlation, outlier analysis, and data export.\n",
        "\n",
        "    Args:\n",
        "        df (pd.DataFrame): Input time series data\n",
        "        outlier_method (str): Outlier detection method\n",
        "        outlier_threshold (float): Outlier detection sensitivity\n",
        "        generate_plots (bool): Whether to generate and display plots\n",
        "        export_formats (list): List of formats to export data ('csv', 'json')\n",
        "        export_name (str): Base name for exported files, defaults to None (no export)\n",
        "        output_dir (str): Directory path for output files\n",
        "    \"\"\"\n",
        "    # Correlation analysis\n",
        "    corr_matrix = calculate_correlations(df)\n",
        "\n",
        "    if generate_plots:\n",
        "        plot_correlation_heatmap(corr_matrix)\n",
        "\n",
        "    # Outlier detection\n",
        "    outliers = detect_outliers(df, method=outlier_method,\n",
        "                              threshold=outlier_threshold)\n",
        "\n",
        "    # Time series visualization with outliers\n",
        "    if generate_plots:\n",
        "        plot_time_series(df, outliers=outliers)\n",
        "\n",
        "    # Export data if requested\n",
        "    if export_name and export_formats:\n",
        "        export_data(df, export_name, output_dir, export_formats)\n",
        "\n",
        "    return corr_matrix, outliers"
      ],
      "metadata": {
        "id": "tn28Moy_cvXj"
      },
      "execution_count": 2,
      "outputs": []
    },
    {
      "cell_type": "code",
      "source": [
        "# Example usage:\n",
        "if __name__ == \"__main__\":\n",
        "    try:\n",
        "        # Load data from Google Drive path\n",
        "        df = pd.read_csv('/content/drive/MyDrive/Test/complex.csv').set_index('time')# Change to your own file address\n",
        "\n",
        "        # Return and print the correlation matrix\n",
        "        corr_matrix, outliers = analyze_time_series(\n",
        "            df,\n",
        "            generate_plots=False,  # If in Jupyter, can set True to see plots\n",
        "            export_formats=['csv', 'json'],\n",
        "            export_name='complex_data',\n",
        "            output_dir='/content/drive/MyDrive/Test/'\n",
        "        )\n",
        "\n",
        "        # Print correlation matrix\n",
        "        print(\"Correlation Matrix:\")\n",
        "        print(corr_matrix)\n",
        "\n",
        "        # Save correlation matrix\n",
        "        corr_df = pd.DataFrame(corr_matrix)\n",
        "        corr_csv_path = os.path.join('/content/drive/MyDrive/Test/', 'correlation_matrix.csv')\n",
        "        corr_json_path = os.path.join('/content/drive/MyDrive/Test/', 'correlation_matrix.json')\n",
        "\n",
        "        # Save CSV\n",
        "        corr_df.to_csv(corr_csv_path)\n",
        "        print(f\"Correlation matrix saved to {corr_csv_path}\")\n",
        "\n",
        "        # Save Jason\n",
        "        corr_df.to_json(corr_json_path, orient='split')\n",
        "        print(f\"Correlation matrix saved to {corr_json_path}\")\n",
        "\n",
        "    except Exception as e:\n",
        "        print(f\"Error loading or processing data: {e}\")"
      ],
      "metadata": {
        "colab": {
          "base_uri": "https://localhost:8080/"
        },
        "id": "lDWfpRSPeHnE",
        "outputId": "fb5fb767-8c89-4fe2-e8f4-5ffad45f7b31"
      },
      "execution_count": 9,
      "outputs": [
        {
          "output_type": "stream",
          "name": "stdout",
          "text": [
            "Data saved to /content/drive/MyDrive/Test/complex_data_ready.csv\n",
            "Data saved to /content/drive/MyDrive/Test/complex_data_ready.json\n",
            "Correlation Matrix:\n",
            "          s1        s2        s3\n",
            "s1  1.000000  0.152738  0.960249\n",
            "s2  0.152738  1.000000  0.059872\n",
            "s3  0.960249  0.059872  1.000000\n",
            "Correlation matrix saved to /content/drive/MyDrive/Test/correlation_matrix.csv\n",
            "Correlation matrix saved to /content/drive/MyDrive/Test/correlation_matrix.json\n"
          ]
        }
      ]
    }
  ]
}