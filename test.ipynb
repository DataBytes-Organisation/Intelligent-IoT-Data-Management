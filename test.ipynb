{
 "cells": [
  {
   "cell_type": "code",
   "execution_count": 7,
   "id": "8512a3ca-7e30-4769-a93c-e817b9a2ee72",
   "metadata": {},
   "outputs": [],
   "source": [
    "import pandas as pd\n",
    "import numpy as np\n",
    "import matplotlib.pyplot as plt\n",
    "import seaborn as sns\n",
    "from algorithms.mean_based import mean_based\n",
    "from algorithms.volatility_based import volatility_based\n",
    "from algorithms.correlation_based import correlation_based\n",
    "from visualizations.grouped_bar_chart import grouped_bar_chart"
   ]
  },
  {
   "cell_type": "code",
   "execution_count": 20,
   "id": "749f7c6d-e74f-4e00-bcf0-795240bc1133",
   "metadata": {},
   "outputs": [],
   "source": [
    "import pandas as pd\n",
    "import matplotlib.pyplot as plt\n",
    "import numpy as np\n",
    "\n",
    "def grouped_bar_chart(df, streams, start_date, end_date):\n",
    "    \"\"\"\n",
    "    Create a grouped bar chart for the specified streams, grouping by minute.\n",
    "\n",
    "    Parameters:\n",
    "    -----------\n",
    "    df : pandas.DataFrame\n",
    "        DataFrame containing the data with a 'created_at' column and numeric fields.\n",
    "    streams : list of str\n",
    "        List of column names (streams) to plot.\n",
    "    start_date : str or datetime\n",
    "        Start datetime (e.g., '2025-03-18 06:54:00').\n",
    "    end_date : str or datetime\n",
    "        End datetime (e.g., '2025-03-18 06:59:59').\n",
    "\n",
    "    Returns:\n",
    "    --------\n",
    "    None\n",
    "        Displays the grouped bar chart.\n",
    "    \"\"\"\n",
    "    # Convert 'created_at' to datetime and remove timezone to make it naive\n",
    "    df['created_at'] = pd.to_datetime(df['created_at']).dt.tz_localize(None)\n",
    "\n",
    "    # Filter the DataFrame based on the provided date range\n",
    "    mask = (df['created_at'] >= pd.to_datetime(start_date)) & (df['created_at'] <= pd.to_datetime(end_date))\n",
    "    df_filtered = df.loc[mask].copy()\n",
    "\n",
    "    # Create a new column that floors the timestamp to the minute for grouping\n",
    "    df_filtered['minute'] = df_filtered['created_at'].dt.floor('min')\n",
    "\n",
    "    # Group by minute and aggregate the streams (using sum; change to mean() if desired)\n",
    "    grouped_data = df_filtered.groupby('minute')[streams].sum().reset_index()\n",
    "\n",
    "    # Create x positions for each minute group\n",
    "    x = np.arange(len(grouped_data))\n",
    "    width = 0.8 / len(streams)  # Adjust width so that all bars in a group fit nicely\n",
    "\n",
    "    fig, ax = plt.subplots(figsize=(10, 6))\n",
    "\n",
    "    # Plot each stream as a set of bars with an offset\n",
    "    for i, stream in enumerate(streams):\n",
    "        ax.bar(\n",
    "            x + i * width,\n",
    "            grouped_data[stream],\n",
    "            width,\n",
    "            label=stream\n",
    "        )\n",
    "\n",
    "    # Set x-ticks in the middle of each group\n",
    "    ax.set_xticks(x + (len(streams) - 1) * width / 2)\n",
    "    # Format the minute as a string (e.g., '06:54')\n",
    "    ax.set_xticklabels(grouped_data['minute'].dt.strftime('%H:%M'))\n",
    "\n",
    "    ax.set_xlabel('Time (Minute)')\n",
    "    ax.set_ylabel('Aggregated Value')\n",
    "    ax.set_title('Grouped Bar Chart by Minute')\n",
    "    ax.legend(title='Streams')\n",
    "\n",
    "    plt.tight_layout()\n",
    "    plt.show()\n"
   ]
  },
  {
   "cell_type": "code",
   "execution_count": 21,
   "id": "46613bc0-c5a9-47bd-82f0-5a4c8a24a04d",
   "metadata": {},
   "outputs": [
    {
     "data": {
      "image/png": "[encoded data removed]",
      "text/plain": [
       "<Figure size 1000x600 with 1 Axes>"
      ]
     },
     "metadata": {},
     "output_type": "display_data"
    }
   ],
   "source": [
    "grouped_bar_chart(df, streams_to_check, start_date, end_date)"
   ]
  },
  {
   "cell_type": "code",
   "execution_count": 11,
   "id": "bb1015ac-2b33-4ae8-8ba7-44c45d92ad35",
   "metadata": {},
   "outputs": [
    {
     "name": "stdout",
     "output_type": "stream",
     "text": [
      "Volatility (std) of each stream (inverted):\n",
      "field1    -1.709701\n",
      "field2    -1.231456\n",
      "field3    -1.010277\n",
      "field6   -37.640944\n",
      "dtype: float64\n",
      "\n",
      "Outlier threshold: -28.562339587121162\n",
      "\n",
      "Suspected outlier streams (abnormal volatility):\n",
      "field6   -37.640944\n",
      "dtype: float64\n",
      "\n",
      "Outlier detection results:\n",
      "{'field1': {'avg_corr': -1.7097008285302207, 'is_outlier': False}, 'field2': {'avg_corr': -1.231455852429764, 'is_outlier': False}, 'field3': {'avg_corr': -1.0102768633693147, 'is_outlier': False}, 'field6': {'avg_corr': -37.640943922020064, 'is_outlier': True}}\n"
     ]
    }
   ],
   "source": [
    "import pandas as pd\n",
    "import numpy as np\n",
    "import matplotlib.pyplot as plt\n",
    "import seaborn as sns\n",
    "# from algorithm import correlation_based\n",
    "\n",
    "# --- Read and process sample data ---\n",
    "# Assume the file 'thingspeak_dataset.csv' has the following structure:\n",
    "# created_at,entry_id,field1,field2,field3,field4,field5,field6,field7,field8\n",
    "df = pd.read_csv('datasets/2881821.csv', parse_dates=['created_at'])\n",
    "df.sort_values(by='created_at', inplace=True)\n",
    "df.set_index('created_at', inplace=True)\n",
    "df = df.interpolate()\n",
    "\n",
    "# --- Example usage of the detect_outlier_streams function ---\n",
    "# Choose at least 3 streams for analysis, for example: field1, field2, field3, field5\n",
    "streams_to_check = ['field1', 'field2', 'field3','field6']\n",
    "start_date = '2025-03-18 06:54:00'\n",
    "end_date = '2025-03-18 06:58:00'\n",
    "\n",
    "results = volatility_based(df, streams_to_check, start_date, end_date)\n",
    "\n",
    "print(\"\\nOutlier detection results:\")\n",
    "print(results)\n"
   ]
  },
  {
   "cell_type": "code",
   "execution_count": 15,
   "id": "642337e9-4a66-421b-a6a4-cbee42c3884c",
   "metadata": {},
   "outputs": [
    {
     "name": "stdout",
     "output_type": "stream",
     "text": [
      "Index(['entry_id', 'field1', 'field2', 'field3', 'field4', 'field5', 'field6',\n",
      "       'field7', 'field8'],\n",
      "      dtype='object')\n"
     ]
    }
   ],
   "source": [
    "# df['created_at'] = pd.to_datetime(df['created_at'])\n",
    "print(df.columns)"
   ]
  },
  {
   "cell_type": "code",
   "execution_count": 18,
   "id": "14d128cd-7de1-4c57-a36f-2383f28c1598",
   "metadata": {},
   "outputs": [
    {
     "name": "stdout",
     "output_type": "stream",
     "text": [
      "Index(['created_at', 'entry_id', 'field1', 'field2', 'field3', 'field4',\n",
      "       'field5', 'field6', 'field7', 'field8'],\n",
      "      dtype='object')\n"
     ]
    }
   ],
   "source": [
    "df = pd.read_csv('datasets/2881821.csv', parse_dates=['created_at'])\n",
    "print(df.columns)\n",
    "df['created_at'] = pd.to_datetime(df['created_at'])"
   ]
  },
  {
   "cell_type": "code",
   "execution_count": null,
   "id": "0e531eb9-78a0-442c-9261-27ab5a38ae39",
   "metadata": {},
   "outputs": [],
   "source": []
  }
 ],
 "metadata": {
  "kernelspec": {
   "display_name": "Python 3 (ipykernel)",
   "language": "python",
   "name": "python3"
  },
  "language_info": {
   "codemirror_mode": {
    "name": "ipython",
    "version": 3
   },
   "file_extension": ".py",
   "mimetype": "text/x-python",
   "name": "python",
   "nbconvert_exporter": "python",
   "pygments_lexer": "ipython3",
   "version": "3.11.5"
  }
 },
 "nbformat": 4,
 "nbformat_minor": 5
}
